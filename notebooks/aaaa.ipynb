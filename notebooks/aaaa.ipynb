{
 "cells": [
  {
   "cell_type": "code",
   "execution_count": 7,
   "metadata": {},
   "outputs": [],
   "source": [
    "import os\n",
    "import pandas as pd\n",
    "import json\n",
    "os.chdir('/Users/jervermindah/Documents/University/TLCN/comprehensive-stockmarket-tool/technical_signal')\n",
    "os.getcwd()\n",
    "df = pd.read_csv('AAPL_signal.csv')\n",
    "\n",
    "df.rename(columns={df.columns[0]: 'date'}, inplace=True)\n",
    "df['date'] = pd.to_datetime(df['date'])\n",
    "\n",
    "# Format the datetime values to \"DD/MM/YYYY\"\n",
    "df['date'] = df['date'].dt.strftime('%d/%m/%Y')\n",
    "df = df.fillna(\"\")\n",
    "df = df.to_dict(orient='records')\n",
    "\n",
    "# Save the data to a JSON file\n",
    "with open('AAPL.json', 'w') as file:\n",
    "    file.write(json.dumps(df, indent=2))\n"
   ]
  },
  {
   "cell_type": "code",
   "execution_count": 2,
   "metadata": {},
   "outputs": [],
   "source": [
    "import pandas as pd\n",
    "import numpy as np\n",
    "df = pd.read_csv('AAPl_news_1.csv')\n",
    "rows_to_remove = df[df['summary'].str.contains('Zacks.com', na=False, case=False)].index\n",
    "\n",
    "# Remove the rows from the DataFrame\n",
    "df.drop(rows_to_remove, inplace=True)\n",
    "df.to_csv('AAPl_news_filter_non_zacks.csv')\n"
   ]
  },
  {
   "cell_type": "code",
   "execution_count": 2,
   "metadata": {
    "ExecuteTime": {
     "end_time": "2023-05-17T01:53:59.958542Z",
     "start_time": "2023-05-17T01:53:59.625805Z"
    },
    "collapsed": false
   },
   "outputs": [
    {
     "name": "stdout",
     "output_type": "stream",
     "text": [
      "Error: 401\n"
     ]
    }
   ],
   "source": [
    "import requests\n",
    "\n",
    "url = \"https://eodhistoricaldata.com/api/news\"\n",
    "params = {\n",
    "    \"api_token\": \"demo\",\n",
    "    \"s\": \"AAPL.US\",\n",
    "    \"offset\": 0,\n",
    "    \"limit\": 1000\n",
    "}\n",
    "\n",
    "response = requests.get(url, params=params)\n",
    "\n",
    "if response.status_code == 200:\n",
    "    data = response.json()\n",
    "    # Process and work with the retrieved news data here\n",
    "    print(data)\n",
    "else:\n",
    "    print(\"Error:\", response.status_code)\n"
   ]
  },
  {
   "cell_type": "code",
   "execution_count": 5,
   "metadata": {
    "collapsed": false
   },
   "outputs": [
    {
     "name": "stdout",
     "output_type": "stream",
     "text": [
      "d:\\New Technologies\\Web_Stock\\comprehensive-stockmarket-tool\\notebooks\n",
      "GOOGL\n"
     ]
    }
   ],
   "source": [
    "import json\n",
    "import os\n",
    "def readjson(path):\n",
    "    with open(path, 'r') as json_file:\n",
    "        json_data = json.load(json_file)\n",
    "    match json_data['symbol']:\n",
    "        case 'APPLE':\n",
    "            symbol = 'AAPL'\n",
    "        case 'AMAZON':\n",
    "            symbol = 'AMZN'\n",
    "        case 'MICROSOFT':\n",
    "            symbol = 'MSFT'\n",
    "        case 'GOOGLE':\n",
    "            symbol = 'GOOGL'\n",
    "        case 'TESLA':\n",
    "            symbol = 'TSLA'\n",
    "    return symbol\n",
    "\n",
    "print(os.getcwd())\n",
    "symbol = readjson('../configs/symbolconfig.json')\n",
    "print(symbol)\n",
    "\n",
    "\n",
    "\n",
    "\n",
    "\n",
    "\n"
   ]
  },
  {
   "cell_type": "code",
   "execution_count": 3,
   "metadata": {
    "ExecuteTime": {
     "end_time": "2023-05-25T02:35:51.358278Z",
     "start_time": "2023-05-25T02:35:51.329198Z"
    },
    "collapsed": false
   },
   "outputs": [],
   "source": [
    "import json\n",
    "objetc = {\n",
    "    'asdas': 'asdasda',\n",
    "    'asdasd': '123123'\n",
    "}\n",
    "with open('file_path.json', 'w') as file:\n",
    "    file.write(json.dumps(objetc))\n"
   ]
  },
  {
   "cell_type": "code",
   "execution_count": 1,
   "metadata": {
    "collapsed": false
   },
   "outputs": [],
   "source": [
    "import datetime\n",
    "import pandas as pd\n",
    "os.chdir('../NLP/news_data/AAPL')\n",
    "os.getcwd()\n",
    "main_df = pd.read_csv('AAPL_data.csv')\n",
    "\n"
   ]
  },
  {
   "cell_type": "code",
   "execution_count": 5,
   "metadata": {},
   "outputs": [],
   "source": [
    "main_df['date'] = pd.to_datetime(main_df['date'])\n",
    "newest_date = main_df['date'].max()\n",
    "current_day = datetime.date.today().strftime(\"%Y-%m-%d\")\n",
    "current_day = datetime.datetime.strptime(current_day, \"%Y-%m-%d\")\n",
    "next_day = newest_date + datetime.timedelta(days=1)"
   ]
  }
 ],
 "metadata": {
  "kernelspec": {
   "display_name": "stock_pred",
   "language": "python",
   "name": "python3"
  },
  "language_info": {
   "codemirror_mode": {
    "name": "ipython",
    "version": 3
   },
   "file_extension": ".py",
   "mimetype": "text/x-python",
   "name": "python",
   "nbconvert_exporter": "python",
   "pygments_lexer": "ipython3",
   "version": "3.10.10"
  },
  "orig_nbformat": 4,
  "vscode": {
   "interpreter": {
    "hash": "4d6c00a200ee523965bd64971563c2527a5168161590ce1dc255c51766d02a15"
   }
  }
 },
 "nbformat": 4,
 "nbformat_minor": 2
}
