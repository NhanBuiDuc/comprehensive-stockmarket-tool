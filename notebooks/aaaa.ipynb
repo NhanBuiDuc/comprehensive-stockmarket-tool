{
 "cells": [
  {
   "cell_type": "code",
   "execution_count": 7,
   "metadata": {},
   "outputs": [],
   "source": [
    "import os\n",
    "import pandas as pd\n",
    "import json\n",
    "os.chdir('/Users/jervermindah/Documents/University/TLCN/comprehensive-stockmarket-tool/csv')\n",
    "os.getcwd()\n",
    "df = pd.read_csv('AAPL.csv')\n",
    "df.rename(columns={df.columns[0]: 'date'}, inplace=True)\n",
    "df['date'] = pd.to_datetime(df['date'])\n",
    "\n",
    "# Format the datetime values to \"DD/MM/YYYY\"\n",
    "df['date'] = df['date'].dt.strftime('%d/%m/%Y')\n",
    "df = df.fillna(\"\")\n",
    "df = df.to_dict(orient='records')\n",
    "\n",
    "# Save the data to a JSON file\n",
    "with open('AAPL.json', 'w') as file:\n",
    "    file.write(json.dumps(df, indent=2))\n"
   ]
  },
  {
   "cell_type": "code",
   "execution_count": 2,
   "metadata": {},
   "outputs": [],
   "source": [
    "import pandas as pd\n",
    "import numpy as np\n",
    "df = pd.read_csv('AAPl_news_1.csv')\n",
    "rows_to_remove = df[df['summary'].str.contains('Zacks.com', na=False, case=False)].index\n",
    "\n",
    "# Remove the rows from the DataFrame\n",
    "df.drop(rows_to_remove, inplace=True)\n",
    "df.to_csv('AAPl_news_filter_non_zacks.csv')\n"
   ]
  },
  {
   "cell_type": "code",
   "execution_count": 2,
   "outputs": [
    {
     "name": "stdout",
     "output_type": "stream",
     "text": [
      "Error: 401\n"
     ]
    }
   ],
   "source": [
    "import requests\n",
    "\n",
    "url = \"https://eodhistoricaldata.com/api/news\"\n",
    "params = {\n",
    "    \"api_token\": \"demo\",\n",
    "    \"s\": \"AAPL.US\",\n",
    "    \"offset\": 0,\n",
    "    \"limit\": 1000\n",
    "}\n",
    "\n",
    "response = requests.get(url, params=params)\n",
    "\n",
    "if response.status_code == 200:\n",
    "    data = response.json()\n",
    "    # Process and work with the retrieved news data here\n",
    "    print(data)\n",
    "else:\n",
    "    print(\"Error:\", response.status_code)\n"
   ],
   "metadata": {
    "collapsed": false,
    "ExecuteTime": {
     "start_time": "2023-05-17T01:53:59.625805Z",
     "end_time": "2023-05-17T01:53:59.958542Z"
    }
   }
  },
  {
   "cell_type": "code",
   "execution_count": null,
   "outputs": [],
   "source": [],
   "metadata": {
    "collapsed": false
   }
  }
 ],
 "metadata": {
  "kernelspec": {
   "display_name": "tf",
   "language": "python",
   "name": "python3"
  },
  "language_info": {
   "codemirror_mode": {
    "name": "ipython",
    "version": 3
   },
   "file_extension": ".py",
   "mimetype": "text/x-python",
   "name": "python",
   "nbconvert_exporter": "python",
   "pygments_lexer": "ipython3",
   "version": "3.10.6"
  },
  "orig_nbformat": 4
 },
 "nbformat": 4,
 "nbformat_minor": 2
}
