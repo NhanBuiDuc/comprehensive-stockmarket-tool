{
 "cells": [
  {
   "cell_type": "code",
   "execution_count": 20,
   "metadata": {},
   "outputs": [],
   "source": [
    "import os\n",
    "import pandas as pd\n",
    "import json\n",
    "os.chdir('/Users/jervermindah/Documents/University/TLCN/comprehensive-stockmarket-tool/technical_signal')\n",
    "os.getcwd()\n",
    "df = pd.read_csv('AAPL_signal.csv')\n",
    "df.rename(columns={df.columns[0]: 'date'}, inplace=True)\n",
    "df['date'] = pd.to_datetime(df['date'])\n",
    "\n",
    "# Format the datetime values to \"DD/MM/YYYY\"\n",
    "df['date'] = df['date'].dt.strftime('%d/%m/%Y')\n",
    "df = df.fillna(\"\")\n",
    "df = df.to_dict(orient='records')\n",
    "\n",
    "# Save the data to a JSON file\n",
    "with open('AAPL.json', 'w') as file:\n",
    "    file.write(json.dumps(df, indent=2))\n"
   ]
  },
  {
   "cell_type": "code",
   "execution_count": 2,
   "metadata": {},
   "outputs": [],
   "source": [
    "import pandas as pd\n",
    "import numpy as np\n",
    "df = pd.read_csv('AAPl_news_1.csv')\n",
    "rows_to_remove = df[df['summary'].str.contains('Zacks.com', na=False, case=False)].index\n",
    "\n",
    "# Remove the rows from the DataFrame\n",
    "df.drop(rows_to_remove, inplace=True)\n",
    "df.to_csv('AAPl_news_filter_non_zacks.csv')\n"
   ]
  },
  {
   "cell_type": "code",
   "execution_count": 13,
   "metadata": {},
   "outputs": [],
   "source": [
    "import pandas as pd\n",
    "import numpy as np\n",
    "os.getcwd()\n",
    "os.chdir('../technical_signal/')\n",
    "df = pd.read_csv('AAPL_signal.csv')"
   ]
  },
  {
   "cell_type": "code",
   "execution_count": 1,
   "metadata": {},
   "outputs": [
    {
     "name": "stdout",
     "output_type": "stream",
     "text": [
      "d:\\Document\\TLCN\\comprehensive-stockmarket-tool\\notebooks\n"
     ]
    }
   ],
   "source": [
    "import pandas as pd\n",
    "import numpy as np\n",
    "import os\n",
    "print(os.getcwd())\n",
    "df = pd.read_csv('../csv/MSFT.csv')\n",
    "\n",
    "df.rename(columns={df.columns[0]: 'date'}, inplace=True)\n",
    "df['date'] = pd.to_datetime(df['date'])\n",
    "df = df[df['date'] > '2018-01-01']\n",
    "data_date = df['date'].tolist()\n",
    "data_close_price = df['adjusted close'].values\n",
    "num_data_points = len(df)"
   ]
  }
 ],
 "metadata": {
  "kernelspec": {
   "display_name": "stock_pred",
   "language": "python",
   "name": "python3"
  },
  "language_info": {
   "codemirror_mode": {
    "name": "ipython",
    "version": 3
   },
   "file_extension": ".py",
   "mimetype": "text/x-python",
   "name": "python",
   "nbconvert_exporter": "python",
   "pygments_lexer": "ipython3",
   "version": "3.10.10"
  },
  "orig_nbformat": 4,
  "vscode": {
   "interpreter": {
    "hash": "4d6c00a200ee523965bd64971563c2527a5168161590ce1dc255c51766d02a15"
   }
  }
 },
 "nbformat": 4,
 "nbformat_minor": 2
}
