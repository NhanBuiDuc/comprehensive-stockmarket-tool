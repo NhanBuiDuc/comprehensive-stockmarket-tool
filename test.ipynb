{
  "cells": [
    {
      "cell_type": "code",
      "execution_count": 27,
      "metadata": {},
      "outputs": [
        {
          "name": "stdout",
          "output_type": "stream",
          "text": [
            "[0.35798709 0.26783154 0.12573314 0.09414716 0.         0.15430108]\n",
            "\n",
            "Accuracy: 0.54\n"
          ]
        }
      ],
      "source": [
        "import requests\n",
        "import pandas as pd\n",
        "from sklearn.tree import DecisionTreeClassifier\n",
        "from sklearn.model_selection import train_test_split\n",
        "from sklearn.metrics import accuracy_score\n",
        "\n",
        "# Make API request to Vantage API\n",
        "url = \"https://www.alphavantage.co/query\"\n",
        "params = {\n",
        "    \"function\": \"TIME_SERIES_DAILY_ADJUSTED\",\n",
        "    \"symbol\": \"AAPL\", # Change this to the stock symbol you want to use\n",
        "    \"outputsize\": \"compact\",\n",
        "    \"apikey\": \"XOLA7URKCZHU7C9X\" # Replace with your API key from Alpha Vantage\n",
        "}\n",
        "response = requests.get(url, params=params)\n",
        "data = response.json()\n",
        "\n",
        "# Convert response data to dataframe\n",
        "df = pd.DataFrame.from_dict(data['Time Series (Daily)'], orient='index')\n",
        "df = df.rename(columns={\n",
        "    '1. open': 'Open',\n",
        "    '2. high': 'High',\n",
        "    '3. low': 'Low',\n",
        "    '4. close': 'Close',\n",
        "    '5. adjusted close': 'Adj Close',\n",
        "    '6. volume': 'Volume'\n",
        "})\n",
        "df = df.astype(float)\n",
        "\n",
        "# Define sequence length\n",
        "sequence_length = 10\n",
        "\n",
        "# Create binary target variable y_train\n",
        "y = []\n",
        "for i in range(len(df)-sequence_length):\n",
        "    if df['Close'][i+sequence_length-1] > df['Close'][i+sequence_length]:\n",
        "        y.append(1)\n",
        "    else:\n",
        "        y.append(0)\n",
        "\n",
        "# Create feature matrix X\n",
        "X = df[['Open', 'High', 'Low', 'Close', 'Adj Close', 'Volume']]\n",
        "X = X[:-1]\n",
        "X_test = X[-50:]\n",
        "X_train = X[:-50]\n",
        "y_train = y[:-50]\n",
        "y_test = y[-50:]\n",
        "# y_test[-1] = 1\n",
        "# Split data into training and testing sets\n",
        "# X_train, X_test, y_train, y_test = train_test_split(X, y_train, test_size=0.2, random_state=10)\n",
        "\n",
        "# Train decision tree model\n",
        "dt = DecisionTreeClassifier(random_state=10)\n",
        "\n",
        "dt.fit(X_train, y_train)\n",
        "print(dt.feature_importances_)\n",
        "# Make predictions on test set\n",
        "y_pred = dt.predict(X_test)\n",
        "print()\n",
        "# Evaluate model performance using accuracy score\n",
        "accuracy = accuracy_score(y_test, y_pred)\n",
        "print(\"Accuracy:\", accuracy)\n"
      ]
    },
    {
      "attachments": {},
      "cell_type": "markdown",
      "metadata": {},
      "source": [
        "1 2 3 4 5 6 7 8 9 10"
      ]
    },
    {
      "attachments": {},
      "cell_type": "markdown",
      "metadata": {},
      "source": [
        "\n",
        "\n",
        "# Create feature matrix X\n",
        "X = []\n",
        "for i in range(len(df)-sequence_length):\n",
        "    seq = df[['Open', 'High', 'Low', 'Close', 'Adj Close', 'Volume']][i:i+sequence_length]\n",
        "    X.append(seq.values)\n",
        "X = np.array(X)\n",
        "\n",
        "# Split data into training and testing sets\n",
        "X_train, X_test, y_train, y_test = train_test_split(X, y, test_size=0.2, random_state=10)\n",
        "\n",
        "# Train decision tree model\n",
        "dt = DecisionTreeClassifier(random_state=10)\n",
        "dt.fit(X_train, y_train)\n",
        "\n",
        "# Make predictions on test set\n",
        "y_pred = dt.predict(X_test)\n",
        "\n",
        "# Evaluate model performance using accuracy score\n",
        "accuracy = accuracy_score(y_test, y_pred)\n",
        "print(\"Accuracy:\", accuracy)\n"
      ]
    }
  ],
  "metadata": {
    "accelerator": "GPU",
    "colab": {
      "include_colab_link": true,
      "name": "Demo - Predicting Stock Prices with LSTM",
      "provenance": [],
      "toc_visible": true
    },
    "kernelspec": {
      "display_name": "test",
      "language": "python",
      "name": "python3"
    },
    "language_info": {
      "codemirror_mode": {
        "name": "ipython",
        "version": 3
      },
      "file_extension": ".py",
      "mimetype": "text/x-python",
      "name": "python",
      "nbconvert_exporter": "python",
      "pygments_lexer": "ipython3",
      "version": "3.9.16"
    },
    "vscode": {
      "interpreter": {
        "hash": "535c836493c7e315dc8fe3f2a7a33eba4862033b9e6ec9a77cd71992b19d7a5b"
      }
    }
  },
  "nbformat": 4,
  "nbformat_minor": 0
}
