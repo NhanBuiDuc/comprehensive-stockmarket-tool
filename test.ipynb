{
 "cells": [
  {
   "cell_type": "code",
   "execution_count": 30,
   "metadata": {},
   "outputs": [],
   "source": [
    "import datetime\n",
    "\n",
    "def str_to_datetime(s):\n",
    "  split = s.split('-')\n",
    "  year, month, day = int(split[0]), int(split[1]), int(split[2])\n",
    "  return datetime.datetime(year=year, month=month, day=day)"
   ]
  },
  {
   "cell_type": "code",
   "execution_count": 35,
   "metadata": {},
   "outputs": [
    {
     "name": "stdout",
     "output_type": "stream",
     "text": [
      "                                    date     Open     High       Low   Close  \\\n",
      "1970-01-01 00:00:00.000000000 2023-03-15  151.190  153.245  149.9200  152.99   \n",
      "1970-01-01 00:00:00.000000001 2023-03-14  151.280  153.400  150.1000  152.59   \n",
      "1970-01-01 00:00:00.000000002 2023-03-13  147.805  153.140  147.7000  150.47   \n",
      "1970-01-01 00:00:00.000000003 2023-03-10  150.210  150.940  147.6096  148.50   \n",
      "1970-01-01 00:00:00.000000004 2023-03-09  153.559  154.535  150.2250  150.59   \n",
      "...                                  ...      ...      ...       ...     ...   \n",
      "1970-01-01 00:00:00.000005875 1999-11-05   84.620   88.370   84.0000   88.31   \n",
      "1970-01-01 00:00:00.000005876 1999-11-04   82.060   85.370   80.6200   83.62   \n",
      "1970-01-01 00:00:00.000005877 1999-11-03   81.620   83.250   81.0000   81.50   \n",
      "1970-01-01 00:00:00.000005878 1999-11-02   78.000   81.690   77.3100   80.25   \n",
      "1970-01-01 00:00:00.000005879 1999-11-01   80.000   80.690   77.3700   77.62   \n",
      "\n",
      "                               Adjusted close      Volume  \n",
      "1970-01-01 00:00:00.000000000      152.990000  77167866.0  \n",
      "1970-01-01 00:00:00.000000001      152.590000  73695893.0  \n",
      "1970-01-01 00:00:00.000000002      150.470000  84457122.0  \n",
      "1970-01-01 00:00:00.000000003      148.500000  68572400.0  \n",
      "1970-01-01 00:00:00.000000004      150.590000  53833582.0  \n",
      "...                                       ...         ...  \n",
      "1970-01-01 00:00:00.000005875        0.670165   3721500.0  \n",
      "1970-01-01 00:00:00.000005876        0.634574   3384700.0  \n",
      "1970-01-01 00:00:00.000005877        0.618485   2932700.0  \n",
      "1970-01-01 00:00:00.000005878        0.608999   3564600.0  \n",
      "1970-01-01 00:00:00.000005879        0.589041   2487300.0  \n",
      "\n",
      "[5880 rows x 7 columns]\n"
     ]
    },
    {
     "name": "stderr",
     "output_type": "stream",
     "text": [
      "c:\\Users\\nhanb\\anaconda3\\envs\\test\\lib\\site-packages\\mplfinance\\_arg_validators.py:83: UserWarning: \n",
      "\n",
      " ================================================================= \n",
      "\n",
      "   WARNING: YOU ARE PLOTTING SO MUCH DATA THAT IT MAY NOT BE\n",
      "            POSSIBLE TO SEE DETAILS (Candles, Ohlc-Bars, Etc.)\n",
      "   For more information see:\n",
      "   - https://github.com/matplotlib/mplfinance/wiki/Plotting-Too-Much-Data\n",
      "   \n",
      "   TO SILENCE THIS WARNING, set `type='line'` in `mpf.plot()`\n",
      "   OR set kwarg `warn_too_much_data=N` where N is an integer \n",
      "   LARGER than the number of data points you want to plot.\n",
      "\n",
      " ================================================================ \n",
      "  warnings.warn('\\n\\n ================================================================= '+\n"
     ]
    }
   ],
   "source": [
    "import pandas as pd\n",
    "import mplfinance as mpf\n",
    "from alpha_vantage.timeseries import TimeSeries\n",
    "\n",
    "ts = TimeSeries(key=\"XOLA7URKCZHU7C9X\")\n",
    "data, meta_data = ts.get_daily_adjusted(\"AAPL\", outputsize=\"full\")\n",
    "\n",
    "# Convert the dictionary to a pandas DataFrame\n",
    "df = pd.DataFrame.from_dict(data, orient='index')\n",
    "df = df.astype(float)\n",
    "\n",
    "# Set the name of the first column (date data)\n",
    "df.reset_index(inplace=True)\n",
    "df.rename(columns={\"index\": \"date\"}, inplace=True)\n",
    "df.rename(columns={\"1. open\": \"Open\"}, inplace=True)\n",
    "df.rename(columns={\"2. high\": \"High\"}, inplace=True)\n",
    "df.rename(columns={\"3. low\": \"Low\"}, inplace=True)\n",
    "df.rename(columns={\"4. close\": \"Close\"}, inplace=True)\n",
    "df.rename(columns={\"5. adjusted close\": \"Adjusted close\"}, inplace=True)\n",
    "df.rename(columns={\"6. volume\": \"Volume\"}, inplace=True)\n",
    "\n",
    "df = df.drop(columns = ['7. dividend amount', '8. split coefficient'])\n",
    "df.reset_index(drop=True, inplace=True)\n",
    "df['date'] = df['date'].apply(str_to_datetime)\n",
    "df.index = pd.to_datetime(df.index)\n",
    "\n",
    "df = df.drop(columns = ['date'])\n",
    "print(df)\n",
    "# Plot candlestick chart using mplfinance\n",
    "\n",
    "mpf.plot(df, type='candle', mav=(10, 20), volume=True, show_nontrading=True)\n"
   ]
  }
 ],
 "metadata": {
  "kernelspec": {
   "display_name": "test",
   "language": "python",
   "name": "python3"
  },
  "language_info": {
   "codemirror_mode": {
    "name": "ipython",
    "version": 3
   },
   "file_extension": ".py",
   "mimetype": "text/x-python",
   "name": "python",
   "nbconvert_exporter": "python",
   "pygments_lexer": "ipython3",
   "version": "3.9.16"
  },
  "orig_nbformat": 4
 },
 "nbformat": 4,
 "nbformat_minor": 2
}
